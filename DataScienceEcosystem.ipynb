{
 "cells": [
  {
   "cell_type": "markdown",
   "id": "63bc414f-557e-48f5-ae4b-7653fb76a638",
   "metadata": {},
   "source": [
    "# Data Science Tools and Ecosystem"
   ]
  },
  {
   "cell_type": "markdown",
   "id": "bebe9341-7d2f-4395-9760-a703baa113fe",
   "metadata": {
    "tags": []
   },
   "source": [
    "In this notebook, Data Science Tools and Ecosystem are summarized."
   ]
  },
  {
   "cell_type": "markdown",
   "id": "01f09217-6ebb-4c5b-914e-03012790db8c",
   "metadata": {
    "tags": []
   },
   "source": [
    "**Objectives**\n",
    "\n",
    "- Create a Jupyter Notebook with markdown and code cells\n",
    "- List examples of languages, libraries and tools used in Data Science\n",
    "- Share your Jupyter Notebook publicly on GitHub\n",
    "- Evaluate notebooks submitted by your peers using the provided rubric\n",
    "- Demonstrate proficiency in Data Science toolkit knowledge"
   ]
  },
  {
   "cell_type": "markdown",
   "id": "665f0e31-0638-4a95-a394-4870018a4180",
   "metadata": {},
   "source": [
    "Some of the popular languages that Data Scientists use are:\n",
    "\n",
    "1. Python \n",
    "2. R \n",
    "3. Julia "
   ]
  },
  {
   "cell_type": "markdown",
   "id": "78be7042-5320-4b7d-a820-a43c1b2c4e59",
   "metadata": {},
   "source": [
    "Some of the commonly used libraries used by Data Scientists include:\n",
    "1. ggplot\n",
    "2. plotly\n",
    "3. pandas\n",
    "4. tensorflow"
   ]
  },
  {
   "cell_type": "markdown",
   "id": "b3d84614-21b3-4893-bf6f-853cbf82c4c1",
   "metadata": {
    "tags": []
   },
   "source": [
    "| Data Science Tools |\n",
    "| -------------| \n",
    "| Rstudio |\n",
    "| Anaconda |\n",
    "| VS code | "
   ]
  },
  {
   "cell_type": "markdown",
   "id": "3d6975d6-c8f6-4536-9a92-29effcce66dd",
   "metadata": {},
   "source": [
    "### Below are a few examples of evaluating arithmetic expressions in Python"
   ]
  },
  {
   "cell_type": "code",
   "execution_count": 4,
   "id": "4f521f4d-7944-40e2-a6af-c0dd8c81400f",
   "metadata": {
    "tags": []
   },
   "outputs": [
    {
     "data": {
      "text/plain": [
       "17"
      ]
     },
     "execution_count": 4,
     "metadata": {},
     "output_type": "execute_result"
    }
   ],
   "source": [
    "# This a simple arithmetic expression to mutiply then add integers\n",
    "(3*4)+5"
   ]
  },
  {
   "cell_type": "code",
   "execution_count": 11,
   "id": "87d64f33-8558-43a7-a63b-d0d6dba9bf34",
   "metadata": {
    "tags": []
   },
   "outputs": [
    {
     "name": "stdout",
     "output_type": "stream",
     "text": [
      "200 minutes is 3.3333333333333335 hours\n"
     ]
    }
   ],
   "source": [
    "# This will convert 200 minutes to hours by diving by 60\n",
    "h=200/60\n",
    "print('200 minutes is', h, 'hours')"
   ]
  },
  {
   "cell_type": "markdown",
   "id": "5a4e7282-90f8-4088-857d-2097680f3806",
   "metadata": {},
   "source": [
    "## Author \n",
    "Jing ZHANG"
   ]
  }
 ],
 "metadata": {
  "kernelspec": {
   "display_name": "Python 3 (ipykernel)",
   "language": "python",
   "name": "python3"
  },
  "language_info": {
   "codemirror_mode": {
    "name": "ipython",
    "version": 3
   },
   "file_extension": ".py",
   "mimetype": "text/x-python",
   "name": "python",
   "nbconvert_exporter": "python",
   "pygments_lexer": "ipython3",
   "version": "3.11.5"
  }
 },
 "nbformat": 4,
 "nbformat_minor": 5
}
